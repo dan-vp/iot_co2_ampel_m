{
 "cells": [
  {
   "cell_type": "code",
   "execution_count": null,
   "metadata": {},
   "outputs": [],
   "source": [
    "# from new_preprocessing import  DataExtractor, DataPreprocessing\n",
    "\n",
    "\n",
    "\n",
    "# directory = r\"C:\\Users\\maxda\\Studium\\Semester6\\Anwendungsprojekt\\hka-aqm-data\"\n",
    "# new_directory = r\"C:\\Users\\maxda\\Studium\\Semester6\\Anwendungsprojekt\\test_new_preprocessing\"\n",
    "# de = DataExtractor(first_directory=directory, new_directory=new_directory)\n",
    "\n",
    "# de.extract_zip_files(directory, new_directory)\n",
    "# de.delete_zip_files(directory)\n",
    "\n",
    "# df = de.get_data(new_directory)\n",
    "\n",
    "# dp = DataPreprocessing()\n",
    "\n",
    "# df_new = dp.preprocess_df(df)"
   ]
  },
  {
   "cell_type": "code",
   "execution_count": null,
   "metadata": {},
   "outputs": [],
   "source": [
    "# df_m = df_new[df_new.building_name == \"m\"]"
   ]
  },
  {
   "cell_type": "code",
   "execution_count": null,
   "metadata": {},
   "outputs": [],
   "source": [
    "# df_m.to_parquet(\"Preprocessed_M_Data.parquet\")"
   ]
  },
  {
   "cell_type": "code",
   "execution_count": null,
   "metadata": {},
   "outputs": [],
   "source": [
    "import numpy as np\n",
    "import plotly.express as px\n",
    "import matplotlib.pyplot as plt\n",
    "import seaborn as sns\n",
    "import pandas as pd"
   ]
  },
  {
   "cell_type": "code",
   "execution_count": null,
   "metadata": {},
   "outputs": [],
   "source": [
    "df_m = pd.read_parquet(\"../Gebäude_M_Analysis/Preprocessed_M_Data.parquet\")"
   ]
  },
  {
   "cell_type": "code",
   "execution_count": null,
   "metadata": {},
   "outputs": [],
   "source": [
    "df_m.columns"
   ]
  },
  {
   "cell_type": "markdown",
   "metadata": {},
   "source": [
    "\n",
    "\n",
    "Attributsbeschreibung:\n",
    "\n",
    "    date_time := Datum (Format: YYYY-MM-DD HH:MM:SS)\n",
    "    device_id := CO2-Ampel-ID\n",
    "    tmp := Durchschnittliche Temperatur\n",
    "    hum := Durchschnittliche Luftfeuchtigkeit\n",
    "    CO2 := Durchschnittlicher CO2-Wert\n",
    "    VOC := Durchschnittliche Schadstoffbelastung\n",
    "    vis := Durchschnittlicher Lichtwert\n",
    "    IR := Durchschnittlicher Infrarotwert\n",
    "    WIFI := Durchschnittliche Anzahl an WiFi-Geräten\n",
    "    BLE := Durchschnittliche Anzahl an Bluetoothgeräten\n",
    "    rssi := received signal strength indication, Empfangsfeldstärke kabelloser Kommunikationsanwendungen\n",
    "    channel_rssi := Gesamtstärke des ganzen Empfangs\n",
    "    snr := Signal-Rausch-Verhältnis\n",
    "    gateway := Genutztes Gateway für die Übertragung des Datenpunktes\n",
    "    channel_index :=\n",
    "    spreading_factor :=\n",
    "    bandwidth :=\n",
    "    f_cnt :=\n",
    "    building_name := Name des Gebäudes, in dem sich die CO2-Ampel befindet\n",
    "\n"
   ]
  },
  {
   "cell_type": "markdown",
   "metadata": {},
   "source": [
    "Verteilung Messungen im Verlauf der Zeit"
   ]
  },
  {
   "cell_type": "code",
   "execution_count": null,
   "metadata": {},
   "outputs": [],
   "source": [
    "df_m.dtypes"
   ]
  },
  {
   "cell_type": "code",
   "execution_count": null,
   "metadata": {},
   "outputs": [],
   "source": [
    "df_m[\"date\"] = df_m[\"date_time\"].dt.date\n",
    "daily_counts = df_m.groupby('date').size().reset_index(name='count')\n",
    "\n",
    "px.line(daily_counts, x=\"date\", y=\"count\")"
   ]
  },
  {
   "cell_type": "markdown",
   "metadata": {},
   "source": [
    "Verteilung Messwerte pro Raum im Verlauf der Zeit"
   ]
  },
  {
   "cell_type": "code",
   "execution_count": null,
   "metadata": {},
   "outputs": [],
   "source": [
    "from plotly.subplots import make_subplots\n",
    "import plotly.graph_objects as go\n",
    "\n",
    "m_building_rooms = df_m.room_number.unique()\n",
    "\n",
    "num_rooms = len(m_building_rooms)\n",
    "\n",
    "cols = 4\n",
    "\n",
    "# Anzahl der Zeilen berechnen\n",
    "rows = - (- num_rooms // cols)  # ceiling division\n",
    "\n",
    "# Subplots erstellen\n",
    "fig = make_subplots(rows=rows, cols=cols, shared_xaxes=True, shared_yaxes=True, subplot_titles=[f\"Room {room}\" for room in m_building_rooms])\n",
    "\n",
    "# Schleife über jeden Raum\n",
    "for i, room in enumerate(m_building_rooms, start=1):\n",
    "    df_room = df_m[df_m.room_number == room]\n",
    "    daily_count_room = df_room.groupby('date').size().reset_index(name='count')\n",
    "    \n",
    "    # Linie hinzufügen\n",
    "    row = (i - 1) // cols + 1\n",
    "    col = (i - 1) % cols + 1\n",
    "    fig.add_trace(go.Scatter(x=daily_count_room['date'], y=daily_count_room['count'], mode='lines',line=dict(color='blue'), name=f\"Room {room}\"), row=row, col=col)\n",
    "\n",
    "# Layout anpassen\n",
    "fig.update_layout(height=300*rows, width=1800, title_text=\"Daily Measurement Counts per Room\", showlegend=False)\n",
    "fig.update_xaxes(title_text=\"Date\")\n",
    "fig.update_yaxes(title_text=\"Count\")\n",
    "\n",
    "# Anzeige\n",
    "fig.show()\n",
    "\n",
    "\n",
    "\n"
   ]
  },
  {
   "cell_type": "code",
   "execution_count": null,
   "metadata": {},
   "outputs": [],
   "source": [
    "df_m.columns"
   ]
  },
  {
   "cell_type": "markdown",
   "metadata": {},
   "source": [
    "CO2 - Werte Tagesüberblick"
   ]
  },
  {
   "cell_type": "code",
   "execution_count": null,
   "metadata": {},
   "outputs": [],
   "source": [
    "import plotly.graph_objects as go\n",
    "from plotly.subplots import make_subplots\n",
    "\n",
    "# Berechnen der täglichen Mittelwerte für CO2 und VOC\n",
    "CO2_daily = df_m.groupby('hour', as_index=False).agg({\"CO2\":\"mean\", \"VOC\":\"mean\"})\n",
    "\n",
    "# Erstellen eines Subplots mit 1 Zeile und 1 Spalte und zwei y-Achsen\n",
    "fig = make_subplots(specs=[[{\"secondary_y\": True}]])\n",
    "\n",
    "# Hinzufügen der CO2-Linie\n",
    "fig.add_trace(\n",
    "    go.Scatter(x=CO2_daily[\"hour\"], y=CO2_daily[\"CO2\"], name=\"CO2\"),\n",
    "    secondary_y=False,\n",
    ")\n",
    "\n",
    "# Hinzufügen der VOC-Linie\n",
    "fig.add_trace(\n",
    "    go.Scatter(x=CO2_daily[\"hour\"], y=CO2_daily[\"VOC\"], name=\"VOC\"),\n",
    "    secondary_y=True,\n",
    ")\n",
    "\n",
    "# Aktualisieren der Layout-Parameter für die Achsen\n",
    "fig.update_layout(\n",
    "    title_text=\"CO2 and VOC Levels by Hour\"\n",
    ")\n",
    "\n",
    "fig.update_xaxes(title_text=\"Hour of the Day\")\n",
    "\n",
    "fig.update_yaxes(title_text=\"CO2 Levels (ppm)\", secondary_y=False)\n",
    "fig.update_yaxes(title_text=\"VOC Levels (ppb)\", secondary_y=True)\n",
    "\n",
    "# Anzeigen des Plots\n",
    "fig.show()"
   ]
  },
  {
   "cell_type": "markdown",
   "metadata": {},
   "source": [
    "CO2 - Werte Tagesüberblick Raumvergleich"
   ]
  },
  {
   "cell_type": "code",
   "execution_count": null,
   "metadata": {},
   "outputs": [],
   "source": [
    "m_building_rooms = df_m.room_number.unique()\n",
    "\n",
    "num_rooms = len(m_building_rooms)\n",
    "\n",
    "cols = 4\n",
    "\n",
    "# Anzahl der Zeilen berechnen\n",
    "rows = - (- num_rooms // cols)  # ceiling division\n",
    "\n",
    "# Subplots erstellen\n",
    "fig = make_subplots(rows=rows, cols=cols, shared_xaxes=True, shared_yaxes=True, subplot_titles=[f\"Room {room}\" for room in m_building_rooms])\n",
    "\n",
    "# Schleife über jeden Raum\n",
    "for i, room in enumerate(m_building_rooms, start=1):\n",
    "    df_room = df_m[df_m.room_number == room]\n",
    "    CO2_daily_room = df_room.groupby('hour', as_index=False).agg({\"CO2\":\"mean\"})\n",
    "    \n",
    "    # Linie hinzufügen\n",
    "    row = (i - 1) // cols + 1\n",
    "    col = (i - 1) % cols + 1\n",
    "    fig.add_trace(go.Scatter(x=CO2_daily_room[\"hour\"], y=CO2_daily_room['CO2'], mode='lines',line=dict(color='blue'), name=f\"Room {room}\"), row=row, col=col)\n",
    "\n",
    "# Layout anpassen\n",
    "fig.update_layout(height=300*rows, width=1800, title_text=\"CO2 over a day\", showlegend=False)\n",
    "fig.update_xaxes(title_text=\"Hour\")\n",
    "fig.update_yaxes(title_text=\"CO2 - avg\")\n",
    "\n",
    "# Anzeige\n",
    "fig.show()\n"
   ]
  }
 ],
 "metadata": {
  "kernelspec": {
   "display_name": "NLP",
   "language": "python",
   "name": "python3"
  },
  "language_info": {
   "codemirror_mode": {
    "name": "ipython",
    "version": 3
   },
   "file_extension": ".py",
   "mimetype": "text/x-python",
   "name": "python",
   "nbconvert_exporter": "python",
   "pygments_lexer": "ipython3",
   "version": "3.9.18"
  }
 },
 "nbformat": 4,
 "nbformat_minor": 2
}
