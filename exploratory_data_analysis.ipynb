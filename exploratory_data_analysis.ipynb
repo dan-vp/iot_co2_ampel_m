{
 "cells": [
  {
   "cell_type": "code",
   "execution_count": null,
   "metadata": {},
   "outputs": [],
   "source": [
    "# import requests\n",
    "\n",
    "\n",
    "\n",
    "# def download_file(url, save_path):\n",
    "#     response = requests.get(url)\n",
    "#     with open(save_path, 'wb') as file:\n",
    "#         file.write(response.content)\n",
    "#     print(\"Downloaded successfully!\")\n",
    "\n",
    "\n",
    "# from bs4 import BeautifulSoup\n",
    "# import urllib.request\n",
    "\n",
    "# parser = 'html.parser'\n",
    "\n",
    "# url = \"https://bwsyncandshare.kit.edu/s/ooNSgk2aN9opB5S\"\n",
    "\n",
    "\n",
    "# resp = urllib.request.urlopen(url)\n",
    "# soup = BeautifulSoup(resp, parser, from_encoding=resp.info().get_param('charset'))\n",
    "\n",
    "# all_links = list()\n",
    "\n",
    "# for link in soup.find_all('a', href=True):\n",
    "#     print(link['href'])\n",
    "\n",
    "#     valid_link_name = (\".tar\" in link[\"href\"]) or (\"/download\" in link[\"href\"])\n",
    "\n",
    "#     if valid_link_name and link[\"href\"] not in all_links:\n",
    "#         print(\"YEA\")\n",
    "#         format = link[\"href\"].split(\".\")[-1]\n",
    "#         name = link[\"href\"].split(\".\")[-2].split(\"/\")[-1]\n",
    "\n",
    "#         if format not in [\"zip\", \"tar\", \"csv\", \"parquet\", \"avro\", \"json\"]:\n",
    "#             format = \"tar\"\n",
    "#         download_file(link[\"href\"], f\"D:/{name}.{format}\")\n",
    "\n",
    "#     all_links.append(link[\"href\"])\n",
    "\n",
    "\n",
    "# import tarfile\n",
    "\n",
    "# if format == \"tar\":\n",
    "\n",
    "#     with tarfile.open(f\"D:/{name}.{format}\", \"r\") as tar:\n",
    "#                         df_list = []\n",
    "#                         for file in tar.getmembers():\n",
    "#                             # extract the DAT file\n",
    "#                             dat_data = tar.extractfile(file)\n",
    "                "
   ]
  },
  {
   "cell_type": "code",
   "execution_count": null,
   "metadata": {},
   "outputs": [],
   "source": [
    "from Preprocessing_M import Data_Extractor, Data_Preprocessing\n",
    "\n",
    "de = Data_Extractor(\"C:/Users/danie/hka-aqm-data\", \"C:/Users/danie/hka-aqm-data/hka-aqm-data\")\n",
    "directory = \"C:/Users/danie/hka-aqm-data/hka-aqm-data\"\n",
    "\n",
    "de.extract_zip_files(directory)\n",
    "de.delete_zip_files(directory)\n",
    "\n",
    "df = de.get_data(directory)"
   ]
  },
  {
   "cell_type": "code",
   "execution_count": null,
   "metadata": {},
   "outputs": [],
   "source": [
    "import pandas as pd\n",
    "import plotly.express as px"
   ]
  },
  {
   "cell_type": "code",
   "execution_count": null,
   "metadata": {},
   "outputs": [],
   "source": [
    "df.columns"
   ]
  },
  {
   "cell_type": "code",
   "execution_count": null,
   "metadata": {},
   "outputs": [],
   "source": [
    "df.loc[:, \"room_number\"] = df[\"device_id\"].str.split(\"-\").str[-1]\n",
    "df.loc[:, \"building_name\"] = df[\"room_number\"].str.replace('\\d+', '', regex = True)\n",
    "df_m = df[df.building_name == \"m\"]"
   ]
  },
  {
   "cell_type": "code",
   "execution_count": null,
   "metadata": {},
   "outputs": [],
   "source": [
    "df_m.dtypes"
   ]
  },
  {
   "cell_type": "code",
   "execution_count": null,
   "metadata": {},
   "outputs": [],
   "source": [
    "df_m[\"snr\"] = df_m[\"snr\"].astype(float)\n",
    "df_m[\"date_time\"] = pd.to_datetime(df_m[\"date_time\"])"
   ]
  },
  {
   "cell_type": "markdown",
   "metadata": {},
   "source": [
    "Remove columns with only one unique value"
   ]
  },
  {
   "cell_type": "code",
   "execution_count": null,
   "metadata": {},
   "outputs": [],
   "source": [
    "for col in df_m.columns:\n",
    "    if df_m[col].nunique() <= 1:\n",
    "        df_m.drop(columns = [col], axis = 1, inplace = True)\n",
    "        print(f\"Removed column: {col}\")"
   ]
  },
  {
   "cell_type": "code",
   "execution_count": null,
   "metadata": {},
   "outputs": [],
   "source": [
    "df_m.head()"
   ]
  },
  {
   "cell_type": "markdown",
   "metadata": {},
   "source": [
    "## Temperature (tmp) ## "
   ]
  },
  {
   "cell_type": "code",
   "execution_count": null,
   "metadata": {},
   "outputs": [],
   "source": [
    "px.box(df_m.tmp, title = \"Boxplot of measured temperatures (°C) in building M\")"
   ]
  },
  {
   "cell_type": "code",
   "execution_count": null,
   "metadata": {},
   "outputs": [],
   "source": [
    "df_m[df_m.tmp > 50]"
   ]
  },
  {
   "cell_type": "code",
   "execution_count": null,
   "metadata": {},
   "outputs": [],
   "source": [
    "df_m = df_m[df_m.tmp <= 50]"
   ]
  },
  {
   "cell_type": "code",
   "execution_count": null,
   "metadata": {},
   "outputs": [],
   "source": [
    "px.box(df_m.tmp, title = \"Boxplot of measured temperatures (°C) in building M (after cleaning)\")"
   ]
  },
  {
   "cell_type": "markdown",
   "metadata": {},
   "source": [
    "## Relative air humidity ##"
   ]
  },
  {
   "cell_type": "code",
   "execution_count": null,
   "metadata": {},
   "outputs": [],
   "source": [
    "px.box(df_m.hum, title = \"Boxplot of measured relative air humidity (in %) in building M\")"
   ]
  },
  {
   "cell_type": "code",
   "execution_count": null,
   "metadata": {},
   "outputs": [],
   "source": [
    "df_m[df_m.hum > 100][[\"date_time\", \"room_number\", \"CO2\", \"VOC\", \"tmp\", \"hum\"]]"
   ]
  },
  {
   "cell_type": "code",
   "execution_count": null,
   "metadata": {},
   "outputs": [],
   "source": [
    "df_m = df_m.loc[df_m.hum <= 100, :]\n",
    "px.box(df_m.hum, title = \"Boxplot of measured relative air humidity (in %) in building M (after cleaning invalid values)\")"
   ]
  },
  {
   "cell_type": "markdown",
   "metadata": {},
   "source": [
    "Remove data points with zeroes as values."
   ]
  },
  {
   "cell_type": "code",
   "execution_count": null,
   "metadata": {},
   "outputs": [],
   "source": [
    "values_zero = (df_m.tmp == 0) | (df_m.hum == 0) | (df.CO2 == 0) | (df.VOC == 0)\n",
    "\n",
    "df_m = df_m[values_zero == False]"
   ]
  },
  {
   "cell_type": "markdown",
   "metadata": {},
   "source": [
    "## CO2 and VOC ##"
   ]
  },
  {
   "cell_type": "code",
   "execution_count": null,
   "metadata": {},
   "outputs": [],
   "source": [
    "import seaborn as sns\n",
    "sns.heatmap(df_m[[\"CO2\", \"VOC\", \"tmp\", \"hum\", \"IR\", \"vis\"]].corr())"
   ]
  },
  {
   "cell_type": "code",
   "execution_count": null,
   "metadata": {},
   "outputs": [],
   "source": [
    "import matplotlib.pyplot as plt\n",
    "\n",
    "plt.boxplot(df_m.CO2)"
   ]
  },
  {
   "cell_type": "code",
   "execution_count": null,
   "metadata": {},
   "outputs": [],
   "source": [
    "import matplotlib.pyplot as plt\n",
    "\n",
    "plt.boxplot(df_m.VOC)"
   ]
  },
  {
   "cell_type": "code",
   "execution_count": null,
   "metadata": {},
   "outputs": [],
   "source": [
    "df_m[df_m.CO2 > 3000].room_number.unique()"
   ]
  },
  {
   "cell_type": "code",
   "execution_count": null,
   "metadata": {},
   "outputs": [],
   "source": [
    "px.line(df_m[df_m.room_number == \"m001\"][[\"date_time\", \"CO2\"]], x = \"date_time\", y = \"CO2\")"
   ]
  },
  {
   "cell_type": "code",
   "execution_count": null,
   "metadata": {},
   "outputs": [],
   "source": [
    "df_m = df_m.sort_values(by = \"date_time\")\n",
    "\n",
    "df_m[\"CO2_diff\"] = df_m.groupby(\"room_number\").CO2.diff()\n",
    "df_m[\"VOC_diff\"] = df_m.groupby(\"room_number\").VOC.diff()\n",
    "df_m[\"time_diff\"] = df_m.groupby(\"room_number\").date_time.diff().dt.seconds\n",
    "df_m.fillna(0, inplace = True)"
   ]
  },
  {
   "cell_type": "markdown",
   "metadata": {},
   "source": [
    "## Room number ##"
   ]
  },
  {
   "cell_type": "code",
   "execution_count": null,
   "metadata": {},
   "outputs": [],
   "source": [
    "df_m.loc[:, \"date_time\"] = pd.to_datetime(df_m[\"date_time\"])\n",
    "df_m.loc[:, \"year\"] = df_m.date_time.dt.year.astype(str)\n",
    "px.bar(df_m.groupby([\"year\", \"room_number\"]).agg(data_points = (\"CO2\", \"count\")).reset_index(), x = \"room_number\", y = \"data_points\", color = \"year\", barmode = \"group\", title = \"Data points per room in building M\")"
   ]
  },
  {
   "cell_type": "code",
   "execution_count": null,
   "metadata": {},
   "outputs": [],
   "source": [
    "df_m[df_m.room_number == \"m700\"]"
   ]
  },
  {
   "cell_type": "code",
   "execution_count": null,
   "metadata": {},
   "outputs": [],
   "source": [
    "df_m.to_parquet(\"C:/Users/danie/hka-aqm-data-m.parquet\")"
   ]
  },
  {
   "cell_type": "code",
   "execution_count": null,
   "metadata": {},
   "outputs": [],
   "source": [
    "# from Preprocessing_M import Data_Preprocessing\n",
    "\n",
    "# dp = Data_Preprocessing(get_outliers_out = True)\n",
    "\n",
    "# df = dp.preprocess_df(df)"
   ]
  }
 ],
 "metadata": {
  "kernelspec": {
   "display_name": "awp1",
   "language": "python",
   "name": "python3"
  },
  "language_info": {
   "codemirror_mode": {
    "name": "ipython",
    "version": 3
   },
   "file_extension": ".py",
   "mimetype": "text/x-python",
   "name": "python",
   "nbconvert_exporter": "python",
   "pygments_lexer": "ipython3",
   "version": "3.12.2"
  }
 },
 "nbformat": 4,
 "nbformat_minor": 2
}
