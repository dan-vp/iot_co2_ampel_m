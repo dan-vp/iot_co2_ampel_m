{
 "cells": [
  {
   "cell_type": "code",
   "execution_count": 3,
   "metadata": {},
   "outputs": [
    {
     "name": "stdout",
     "output_type": "stream",
     "text": [
      "Read data successfully.\n",
      "Data contains 979166 data points and 18 columns.\n"
     ]
    }
   ],
   "source": [
    "from Preprocessing_M import DataExtractor, DataPreprocessing\n",
    "\n",
    "directory = r\"C:\\Users\\maxda\\Studium\\Semester6\\IoT\\Gebäude_Daten\"\n",
    "new_directory = r\"C:\\Users\\maxda\\Studium\\Semester6\\IoT\\Gebäude_Daten\"\n",
    "de = DataExtractor(first_directory=directory, new_directory=new_directory)\n",
    "\n",
    "df = de.create_df()"
   ]
  },
  {
   "cell_type": "code",
   "execution_count": 4,
   "metadata": {},
   "outputs": [],
   "source": [
    "dp = DataPreprocessing()\n",
    "\n",
    "df_preprocessed = dp.preprocess_df(df, rolling_window = \"7d\", sample_time = \"1d\")"
   ]
  },
  {
   "cell_type": "code",
   "execution_count": 7,
   "metadata": {},
   "outputs": [
    {
     "data": {
      "text/plain": [
       "Index(['date_time', 'tmp', 'hum', 'CO2', 'VOC', 'vis', 'IR', 'BLE', 'rssi',\n",
       "       'snr', 'tavg', 'tmin', 'tmax', 'prcp', 'wdir', 'wspd', 'wpgt', 'pres',\n",
       "       'room_number', 'time_diff_sec', 'tmp_diff', 'hum_diff', 'CO2_diff',\n",
       "       'VOC_diff', 'vis_diff', 'IR_diff', 'BLE_diff', 'CO2_diff_per_sec',\n",
       "       'VOC_diff_per_sec', 'tmp_diff_per_sec', 'hum_diff_per_sec',\n",
       "       'IR_diff_per_sec', 'vis_diff_per_sec', 'year', 'dayofweek', 'hour',\n",
       "       'season', 'color', 'VOC_CO2_ratio'],\n",
       "      dtype='object')"
      ]
     },
     "execution_count": 7,
     "metadata": {},
     "output_type": "execute_result"
    }
   ],
   "source": [
    "df_preprocessed.columns"
   ]
  },
  {
   "cell_type": "code",
   "execution_count": 21,
   "metadata": {},
   "outputs": [],
   "source": [
    "from Feature_Engineering import *\n",
    "fe = FeatureEngineering(df_preprocessed, label = \"CO2\", categorical_features = [\"room_number\", \"color\", \"season\"])"
   ]
  },
  {
   "cell_type": "code",
   "execution_count": 59,
   "metadata": {},
   "outputs": [],
   "source": [
    "df_train = fe.X_train\n",
    "df_train[\"CO2\"] = fe.y_train"
   ]
  },
  {
   "cell_type": "code",
   "execution_count": 100,
   "metadata": {},
   "outputs": [],
   "source": [
    "df_test = fe.X_test\n",
    "df_test[\"CO2\"] = fe.y_test"
   ]
  },
  {
   "cell_type": "code",
   "execution_count": 101,
   "metadata": {},
   "outputs": [
    {
     "data": {
      "text/plain": [
       "date_time\n",
       "2022-06-02    538.500000\n",
       "2022-06-03    538.500000\n",
       "2022-06-04    538.500000\n",
       "2022-06-05    538.500000\n",
       "2022-06-06    538.500000\n",
       "                 ...    \n",
       "2023-06-28    439.589578\n",
       "2023-06-28    479.273107\n",
       "2023-06-28    617.419709\n",
       "2023-06-28    560.124293\n",
       "2023-06-28    433.645297\n",
       "Name: CO2, Length: 5680, dtype: float64"
      ]
     },
     "execution_count": 101,
     "metadata": {},
     "output_type": "execute_result"
    }
   ],
   "source": [
    "df_train.iloc[:, 65]"
   ]
  },
  {
   "cell_type": "code",
   "execution_count": 94,
   "metadata": {},
   "outputs": [],
   "source": [
    "n_in=1\n",
    "n_out=1\n",
    "dropnan=True\n",
    "n_vars = df_train.shape[1]\n",
    "\n",
    "cols, names = list(), list()\n",
    " # input sequence (t-n, ... t-1)\n",
    "for i in range(n_in, 0, -1):\n",
    "    cols.append(df_train.shift(i))\n",
    "    names += [('var%d(t-%d)' % (j+1, i)) for j in range(n_vars)]\n",
    " # forecast sequence (t, t+1, ... t+n)\n",
    "for i in range(0, n_out):\n",
    "    cols.append(df_train[[\"CO2\"]].shift(-i))\n",
    "    names += [\"label\"]\n",
    "    # if i == 0:\n",
    "    #     names += [('var%d(t)' % (j+1)) for j in range(n_vars)]\n",
    "    # else:\n",
    "    #     names += [('var%d(t+%d)' % (j+1, i)) for j in range(n_vars)]\n",
    "    # put it all together\n",
    "    train_reframed = pd.concat(cols, axis=1)\n",
    "    train_reframed.columns = names\n",
    "    # drop rows with NaN values\n",
    "    if dropnan:\n",
    "        train_reframed.dropna(inplace=True)\n"
   ]
  },
  {
   "cell_type": "code",
   "execution_count": 104,
   "metadata": {},
   "outputs": [],
   "source": [
    "n_in=1\n",
    "n_out=1\n",
    "dropnan=True\n",
    "n_vars = df_test.shape[1]\n",
    "\n",
    "cols, names = list(), list()\n",
    " # input sequence (t-n, ... t-1)\n",
    "for i in range(n_in, 0, -1):\n",
    "    cols.append(df_test.shift(i))\n",
    "    names += [('var%d(t-%d)' % (j+1, i)) for j in range(n_vars)]\n",
    " # forecast sequence (t, t+1, ... t+n)\n",
    "for i in range(0, n_out):\n",
    "    cols.append(df_test[[\"CO2\"]].shift(-i))\n",
    "    names += [\"label\"]\n",
    "    # if i == 0:\n",
    "    #     names += [('var%d(t)' % (j+1)) for j in range(n_vars)]\n",
    "    # else:\n",
    "    #     names += [('var%d(t+%d)' % (j+1, i)) for j in range(n_vars)]\n",
    "    # put it all together\n",
    "    test_reframed = pd.concat(cols, axis=1)\n",
    "    test_reframed.columns = names\n",
    "    # drop rows with NaN values\n",
    "    if dropnan:\n",
    "        test_reframed.dropna(inplace=True)\n"
   ]
  },
  {
   "cell_type": "code",
   "execution_count": 106,
   "metadata": {},
   "outputs": [
    {
     "name": "stdout",
     "output_type": "stream",
     "text": [
      "(5679, 1, 66) (5679,) (1419, 1, 66) (1419,)\n"
     ]
    }
   ],
   "source": [
    "# split into train and test sets\n",
    "values_train = train_reframed.values\n",
    "values_test = test_reframed.values\n",
    "# split into input and outputs\n",
    "train = values_train[:, :]\n",
    "test = values_test[:, :]\n",
    "\n",
    "train_X, train_y = train[:, :-1], train[:, -1]\n",
    "test_X, test_y = test[:, :-1], test[:, -1]\n",
    "# reshape input to be 3D [samples, timesteps, features]\n",
    "train_X = train_X.reshape((train_X.shape[0], 1, train_X.shape[1]))\n",
    "test_X = test_X.reshape((test_X.shape[0], 1, test_X.shape[1]))\n",
    "print(train_X.shape, train_y.shape, test_X.shape, test_y.shape)"
   ]
  },
  {
   "cell_type": "code",
   "execution_count": 114,
   "metadata": {},
   "outputs": [],
   "source": [
    "train_X = np.asarray(train_X).astype('float32')\n",
    "train_y = np.asarray(train_y).astype('float32')\n",
    "\n",
    "test_X = np.asarray(test_X).astype('float32')\n",
    "test_y = np.asarray(test_y).astype('float32')\n"
   ]
  },
  {
   "cell_type": "code",
   "execution_count": 123,
   "metadata": {},
   "outputs": [
    {
     "name": "stdout",
     "output_type": "stream",
     "text": [
      "Epoch 1/10\n",
      "23/23 - 14s - loss: 394500.5000 - val_loss: 221579.4062 - 14s/epoch - 623ms/step\n",
      "Epoch 2/10\n",
      "23/23 - 1s - loss: 355941.4375 - val_loss: 160658.9375 - 613ms/epoch - 27ms/step\n",
      "Epoch 3/10\n",
      "23/23 - 1s - loss: 246858.7188 - val_loss: 60309.1484 - 588ms/epoch - 26ms/step\n",
      "Epoch 4/10\n",
      "23/23 - 1s - loss: 100723.3906 - val_loss: 5266.3501 - 596ms/epoch - 26ms/step\n",
      "Epoch 5/10\n",
      "23/23 - 1s - loss: 34151.0430 - val_loss: 33626.6992 - 607ms/epoch - 26ms/step\n",
      "Epoch 6/10\n",
      "23/23 - 1s - loss: 34056.2969 - val_loss: 23418.0332 - 598ms/epoch - 26ms/step\n",
      "Epoch 7/10\n",
      "23/23 - 1s - loss: 34138.4883 - val_loss: 22105.3262 - 594ms/epoch - 26ms/step\n",
      "Epoch 8/10\n",
      "23/23 - 1s - loss: 33807.4805 - val_loss: 23187.3906 - 633ms/epoch - 28ms/step\n",
      "Epoch 9/10\n",
      "23/23 - 1s - loss: 33816.6172 - val_loss: 23230.1543 - 595ms/epoch - 26ms/step\n",
      "Epoch 10/10\n",
      "23/23 - 1s - loss: 33981.3672 - val_loss: 22821.9375 - 595ms/epoch - 26ms/step\n"
     ]
    },
    {
     "data": {
      "image/png": "[encoded data removed]",
      "text/plain": [
       "<Figure size 640x480 with 1 Axes>"
      ]
     },
     "metadata": {},
     "output_type": "display_data"
    }
   ],
   "source": [
    "import tensorflow as tf\n",
    "from keras.models import Sequential\n",
    "from keras.layers import LSTM, Dense, GRU, Dropout, Bidirectional\n",
    "from keras.optimizers import Adam, SGD\n",
    "from matplotlib import pyplot\n",
    "\n",
    "class MyLSTMModel:\n",
    "    def __init__(self, lstm_units=int(fe.X_train.shape[1]*2),input_shape=(None, fe.X_train.shape[1])):\n",
    "        self.model = Sequential()\n",
    "        self.model.add(LSTM(units=lstm_units, input_shape=input_shape, return_sequences = True))\n",
    "        self.model.add(Dropout(0.4))\n",
    "        self.model.add(LSTM(units=lstm_units*2, return_sequences = True))\n",
    "        self.model.add(Dropout(0.3))\n",
    "        self.model.add(Dropout(0.3))\n",
    "        self.model.add(Bidirectional(LSTM(units=lstm_units)))\n",
    "        self.model.add(Dropout(0.3))\n",
    "        self.model.add(Dense(50, activation = \"relu\"))\n",
    "        self.model.add(Dense(30, activation = \"relu\"))\n",
    "        self.model.add(Dense(15, activation = \"relu\"))\n",
    "\n",
    "        self.model.add(Dense(1)) \n",
    "\n",
    "        self.model.compile(optimizer=\"adam\", loss='mse')\n",
    "    \n",
    "    def summary(self):\n",
    "        self.model.summary()\n",
    "\n",
    "# Instantiate the model\n",
    "my_model = MyLSTMModel()\n",
    "\n",
    "history = my_model.model.fit(train_X, train_y, epochs=10, batch_size=256, validation_data=(test_X, test_y), verbose=2, shuffle=False)\n",
    "\n",
    "pyplot.plot(history.history['loss'], label='train')\n",
    "pyplot.plot(history.history['val_loss'], label='test')\n",
    "pyplot.legend()\n",
    "pyplot.show()"
   ]
  },
  {
   "cell_type": "code",
   "execution_count": 125,
   "metadata": {},
   "outputs": [
    {
     "name": "stdout",
     "output_type": "stream",
     "text": [
      "Epoch 1/100\n",
      "1893/1893 - 10s - loss: 587.9341 - val_loss: 443.2758 - 10s/epoch - 5ms/step\n",
      "Epoch 2/100\n",
      "1893/1893 - 4s - loss: 558.1998 - val_loss: 413.8523 - 4s/epoch - 2ms/step\n",
      "Epoch 3/100\n",
      "1893/1893 - 4s - loss: 528.4799 - val_loss: 383.1462 - 4s/epoch - 2ms/step\n",
      "Epoch 4/100\n",
      "1893/1893 - 6s - loss: 497.3174 - val_loss: 352.2361 - 6s/epoch - 3ms/step\n",
      "Epoch 5/100\n",
      "1893/1893 - 5s - loss: 466.5123 - val_loss: 321.4771 - 5s/epoch - 3ms/step\n",
      "Epoch 6/100\n",
      "1893/1893 - 4s - loss: 434.5882 - val_loss: 288.5751 - 4s/epoch - 2ms/step\n",
      "Epoch 7/100\n",
      "1893/1893 - 5s - loss: 402.0999 - val_loss: 256.3274 - 5s/epoch - 2ms/step\n",
      "Epoch 8/100\n",
      "1893/1893 - 4s - loss: 369.8904 - val_loss: 224.1372 - 4s/epoch - 2ms/step\n",
      "Epoch 9/100\n",
      "1893/1893 - 4s - loss: 337.7328 - val_loss: 191.9915 - 4s/epoch - 2ms/step\n",
      "Epoch 10/100\n",
      "1893/1893 - 4s - loss: 305.2773 - val_loss: 158.3345 - 4s/epoch - 2ms/step\n",
      "Epoch 11/100\n",
      "1893/1893 - 4s - loss: 271.5482 - val_loss: 124.7275 - 4s/epoch - 2ms/step\n",
      "Epoch 12/100\n",
      "1893/1893 - 5s - loss: 238.9005 - val_loss: 92.0852 - 5s/epoch - 2ms/step\n",
      "Epoch 13/100\n",
      "1893/1893 - 4s - loss: 208.0651 - val_loss: 60.5243 - 4s/epoch - 2ms/step\n",
      "Epoch 14/100\n",
      "1893/1893 - 4s - loss: 182.8586 - val_loss: 40.3567 - 4s/epoch - 2ms/step\n",
      "Epoch 15/100\n",
      "1893/1893 - 4s - loss: 168.0184 - val_loss: 38.5630 - 4s/epoch - 2ms/step\n",
      "Epoch 16/100\n",
      "1893/1893 - 4s - loss: 159.9209 - val_loss: 43.7973 - 4s/epoch - 2ms/step\n",
      "Epoch 17/100\n",
      "1893/1893 - 4s - loss: 154.4336 - val_loss: 50.7430 - 4s/epoch - 2ms/step\n",
      "Epoch 18/100\n",
      "1893/1893 - 4s - loss: 150.6340 - val_loss: 57.9046 - 4s/epoch - 2ms/step\n",
      "Epoch 19/100\n",
      "1893/1893 - 4s - loss: 148.0358 - val_loss: 64.7936 - 4s/epoch - 2ms/step\n",
      "Epoch 20/100\n",
      "1893/1893 - 4s - loss: 146.1884 - val_loss: 70.8061 - 4s/epoch - 2ms/step\n",
      "Epoch 21/100\n",
      "1893/1893 - 4s - loss: 144.8674 - val_loss: 75.8047 - 4s/epoch - 2ms/step\n",
      "Epoch 22/100\n",
      "1893/1893 - 4s - loss: 143.9735 - val_loss: 80.0226 - 4s/epoch - 2ms/step\n",
      "Epoch 23/100\n",
      "1893/1893 - 4s - loss: 143.3114 - val_loss: 83.6870 - 4s/epoch - 2ms/step\n",
      "Epoch 24/100\n",
      "1893/1893 - 4s - loss: 142.9870 - val_loss: 84.4028 - 4s/epoch - 2ms/step\n",
      "Epoch 25/100\n",
      "1893/1893 - 4s - loss: 142.7488 - val_loss: 86.8739 - 4s/epoch - 2ms/step\n",
      "Epoch 26/100\n",
      "1893/1893 - 5s - loss: 142.5216 - val_loss: 89.1684 - 5s/epoch - 3ms/step\n",
      "Epoch 27/100\n",
      "1893/1893 - 6s - loss: 142.3162 - val_loss: 91.1037 - 6s/epoch - 3ms/step\n",
      "Epoch 28/100\n",
      "1893/1893 - 5s - loss: 142.1708 - val_loss: 92.6659 - 5s/epoch - 3ms/step\n",
      "Epoch 29/100\n",
      "1893/1893 - 5s - loss: 142.0887 - val_loss: 93.9274 - 5s/epoch - 3ms/step\n",
      "Epoch 30/100\n",
      "1893/1893 - 6s - loss: 142.0116 - val_loss: 94.9399 - 6s/epoch - 3ms/step\n",
      "Epoch 31/100\n",
      "1893/1893 - 5s - loss: 142.4275 - val_loss: 87.3355 - 5s/epoch - 3ms/step\n",
      "Epoch 32/100\n",
      "1893/1893 - 5s - loss: 142.4664 - val_loss: 89.4826 - 5s/epoch - 3ms/step\n",
      "Epoch 33/100\n",
      "1893/1893 - 5s - loss: 142.3410 - val_loss: 91.1363 - 5s/epoch - 3ms/step\n",
      "Epoch 34/100\n",
      "1893/1893 - 5s - loss: 142.1701 - val_loss: 92.6925 - 5s/epoch - 3ms/step\n",
      "Epoch 35/100\n",
      "1893/1893 - 5s - loss: 142.0891 - val_loss: 93.7556 - 5s/epoch - 3ms/step\n",
      "Epoch 36/100\n",
      "1893/1893 - 4s - loss: 142.0191 - val_loss: 94.7938 - 4s/epoch - 2ms/step\n",
      "Epoch 37/100\n",
      "1893/1893 - 4s - loss: 141.9665 - val_loss: 95.6507 - 4s/epoch - 2ms/step\n",
      "Epoch 38/100\n",
      "1893/1893 - 4s - loss: 141.9247 - val_loss: 96.4177 - 4s/epoch - 2ms/step\n",
      "Epoch 39/100\n",
      "1893/1893 - 5s - loss: 141.8952 - val_loss: 97.0133 - 5s/epoch - 2ms/step\n",
      "Epoch 40/100\n",
      "1893/1893 - 5s - loss: 141.8770 - val_loss: 97.3399 - 5s/epoch - 2ms/step\n",
      "Epoch 41/100\n",
      "1893/1893 - 5s - loss: 141.8763 - val_loss: 97.5112 - 5s/epoch - 3ms/step\n",
      "Epoch 42/100\n",
      "1893/1893 - 4s - loss: 141.8649 - val_loss: 97.8274 - 4s/epoch - 2ms/step\n",
      "Epoch 43/100\n",
      "1893/1893 - 4s - loss: 141.8518 - val_loss: 98.1429 - 4s/epoch - 2ms/step\n",
      "Epoch 44/100\n",
      "1893/1893 - 4s - loss: 141.8439 - val_loss: 98.4280 - 4s/epoch - 2ms/step\n",
      "Epoch 45/100\n",
      "1893/1893 - 4s - loss: 141.8348 - val_loss: 98.6772 - 4s/epoch - 2ms/step\n",
      "Epoch 46/100\n",
      "1893/1893 - 4s - loss: 141.8281 - val_loss: 98.8632 - 4s/epoch - 2ms/step\n",
      "Epoch 47/100\n",
      "1893/1893 - 5s - loss: 141.8219 - val_loss: 98.9888 - 5s/epoch - 2ms/step\n",
      "Epoch 48/100\n",
      "1893/1893 - 4s - loss: 141.8190 - val_loss: 99.0767 - 4s/epoch - 2ms/step\n",
      "Epoch 49/100\n",
      "1893/1893 - 4s - loss: 141.8163 - val_loss: 99.1360 - 4s/epoch - 2ms/step\n",
      "Epoch 50/100\n",
      "1893/1893 - 5s - loss: 141.8164 - val_loss: 99.1808 - 5s/epoch - 3ms/step\n",
      "Epoch 51/100\n",
      "1893/1893 - 5s - loss: 141.8159 - val_loss: 99.2261 - 5s/epoch - 2ms/step\n",
      "Epoch 52/100\n",
      "1893/1893 - 5s - loss: 141.8151 - val_loss: 99.2714 - 5s/epoch - 3ms/step\n",
      "Epoch 53/100\n",
      "1893/1893 - 5s - loss: 141.8135 - val_loss: 99.3027 - 5s/epoch - 2ms/step\n",
      "Epoch 54/100\n",
      "1893/1893 - 4s - loss: 141.8134 - val_loss: 99.3336 - 4s/epoch - 2ms/step\n",
      "Epoch 55/100\n",
      "1893/1893 - 4s - loss: 141.8129 - val_loss: 99.3644 - 4s/epoch - 2ms/step\n",
      "Epoch 56/100\n",
      "1893/1893 - 5s - loss: 141.8123 - val_loss: 99.3954 - 5s/epoch - 2ms/step\n",
      "Epoch 57/100\n",
      "1893/1893 - 4s - loss: 141.8122 - val_loss: 99.4263 - 4s/epoch - 2ms/step\n",
      "Epoch 58/100\n",
      "1893/1893 - 5s - loss: 141.8118 - val_loss: 99.4572 - 5s/epoch - 2ms/step\n",
      "Epoch 59/100\n",
      "1893/1893 - 5s - loss: 141.8102 - val_loss: 99.4756 - 5s/epoch - 3ms/step\n",
      "Epoch 60/100\n",
      "1893/1893 - 5s - loss: 141.8102 - val_loss: 99.4941 - 5s/epoch - 3ms/step\n",
      "Epoch 61/100\n",
      "1893/1893 - 4s - loss: 141.8101 - val_loss: 99.5125 - 4s/epoch - 2ms/step\n",
      "Epoch 62/100\n",
      "1893/1893 - 4s - loss: 141.8096 - val_loss: 99.5311 - 4s/epoch - 2ms/step\n",
      "Epoch 63/100\n",
      "1893/1893 - 4s - loss: 141.8094 - val_loss: 99.5495 - 4s/epoch - 2ms/step\n",
      "Epoch 64/100\n",
      "1893/1893 - 5s - loss: 141.8092 - val_loss: 99.5679 - 5s/epoch - 3ms/step\n",
      "Epoch 65/100\n",
      "1893/1893 - 5s - loss: 141.8089 - val_loss: 99.5863 - 5s/epoch - 3ms/step\n",
      "Epoch 66/100\n",
      "1893/1893 - 5s - loss: 141.8088 - val_loss: 99.6048 - 5s/epoch - 3ms/step\n",
      "Epoch 67/100\n",
      "1893/1893 - 5s - loss: 141.8087 - val_loss: 99.6233 - 5s/epoch - 3ms/step\n",
      "Epoch 68/100\n",
      "1893/1893 - 5s - loss: 141.8083 - val_loss: 99.6417 - 5s/epoch - 2ms/step\n",
      "Epoch 69/100\n",
      "1893/1893 - 5s - loss: 141.8080 - val_loss: 99.6601 - 5s/epoch - 3ms/step\n",
      "Epoch 70/100\n",
      "1893/1893 - 5s - loss: 141.8078 - val_loss: 99.6785 - 5s/epoch - 3ms/step\n",
      "Epoch 71/100\n",
      "1893/1893 - 4s - loss: 141.8077 - val_loss: 99.6970 - 4s/epoch - 2ms/step\n",
      "Epoch 72/100\n",
      "1893/1893 - 4s - loss: 141.8074 - val_loss: 99.7155 - 4s/epoch - 2ms/step\n",
      "Epoch 73/100\n",
      "1893/1893 - 4s - loss: 141.8073 - val_loss: 99.7339 - 4s/epoch - 2ms/step\n",
      "Epoch 74/100\n",
      "1893/1893 - 4s - loss: 141.8070 - val_loss: 99.7399 - 4s/epoch - 2ms/step\n",
      "Epoch 75/100\n",
      "1893/1893 - 5s - loss: 141.8069 - val_loss: 99.7466 - 5s/epoch - 2ms/step\n",
      "Epoch 76/100\n",
      "1893/1893 - 5s - loss: 141.8071 - val_loss: 99.7534 - 5s/epoch - 2ms/step\n",
      "Epoch 77/100\n",
      "1893/1893 - 5s - loss: 141.8069 - val_loss: 99.7602 - 5s/epoch - 2ms/step\n",
      "Epoch 78/100\n",
      "1893/1893 - 4s - loss: 141.8065 - val_loss: 99.7669 - 4s/epoch - 2ms/step\n",
      "Epoch 79/100\n",
      "1893/1893 - 4s - loss: 141.8066 - val_loss: 99.7736 - 4s/epoch - 2ms/step\n",
      "Epoch 80/100\n",
      "1893/1893 - 4s - loss: 141.8056 - val_loss: 99.7679 - 4s/epoch - 2ms/step\n",
      "Epoch 81/100\n",
      "1893/1893 - 4s - loss: 141.8066 - val_loss: 99.7746 - 4s/epoch - 2ms/step\n",
      "Epoch 82/100\n",
      "1893/1893 - 4s - loss: 141.8055 - val_loss: 99.7688 - 4s/epoch - 2ms/step\n",
      "Epoch 83/100\n",
      "1893/1893 - 4s - loss: 141.8068 - val_loss: 99.7755 - 4s/epoch - 2ms/step\n",
      "Epoch 84/100\n",
      "1893/1893 - 4s - loss: 141.8054 - val_loss: 99.7698 - 4s/epoch - 2ms/step\n",
      "Epoch 85/100\n",
      "1893/1893 - 5s - loss: 141.8055 - val_loss: 99.7641 - 5s/epoch - 2ms/step\n",
      "Epoch 86/100\n",
      "1893/1893 - 5s - loss: 141.8067 - val_loss: 99.7707 - 5s/epoch - 3ms/step\n",
      "Epoch 87/100\n",
      "1893/1893 - 5s - loss: 141.8056 - val_loss: 99.7651 - 5s/epoch - 2ms/step\n",
      "Epoch 88/100\n",
      "1893/1893 - 5s - loss: 141.8068 - val_loss: 99.7717 - 5s/epoch - 2ms/step\n",
      "Epoch 89/100\n",
      "1893/1893 - 5s - loss: 141.8056 - val_loss: 99.7660 - 5s/epoch - 3ms/step\n",
      "Epoch 90/100\n",
      "1893/1893 - 4s - loss: 141.8067 - val_loss: 99.7728 - 4s/epoch - 2ms/step\n",
      "Epoch 91/100\n",
      "1893/1893 - 4s - loss: 141.8055 - val_loss: 99.7670 - 4s/epoch - 2ms/step\n",
      "Epoch 92/100\n",
      "1893/1893 - 4s - loss: 141.8066 - val_loss: 99.7737 - 4s/epoch - 2ms/step\n",
      "Epoch 93/100\n",
      "1893/1893 - 4s - loss: 141.8056 - val_loss: 99.7681 - 4s/epoch - 2ms/step\n",
      "Epoch 94/100\n",
      "1893/1893 - 4s - loss: 141.8066 - val_loss: 99.7747 - 4s/epoch - 2ms/step\n",
      "Epoch 95/100\n",
      "1893/1893 - 4s - loss: 141.8055 - val_loss: 99.7689 - 4s/epoch - 2ms/step\n",
      "Epoch 96/100\n",
      "1893/1893 - 4s - loss: 141.8067 - val_loss: 99.7756 - 4s/epoch - 2ms/step\n",
      "Epoch 97/100\n",
      "1893/1893 - 5s - loss: 141.8053 - val_loss: 99.7698 - 5s/epoch - 2ms/step\n",
      "Epoch 98/100\n",
      "1893/1893 - 4s - loss: 141.8055 - val_loss: 99.7642 - 4s/epoch - 2ms/step\n",
      "Epoch 99/100\n",
      "1893/1893 - 4s - loss: 141.8067 - val_loss: 99.7709 - 4s/epoch - 2ms/step\n",
      "Epoch 100/100\n",
      "1893/1893 - 5s - loss: 141.8056 - val_loss: 99.7652 - 5s/epoch - 2ms/step\n"
     ]
    },
    {
     "data": {
      "image/png": "[encoded data removed]",
      "text/plain": [
       "<Figure size 640x480 with 1 Axes>"
      ]
     },
     "metadata": {},
     "output_type": "display_data"
    }
   ],
   "source": [
    "from keras.models import Sequential\n",
    "from keras.layers import Dense\n",
    "from keras.layers import LSTM\n",
    "from math import sqrt\n",
    "from numpy import concatenate\n",
    "from matplotlib import pyplot\n",
    "\n",
    "# design network\n",
    "model = Sequential()\n",
    "model.add(LSTM(50, input_shape=(train_X.shape[1], train_X.shape[2])))\n",
    "model.add(Dense(1))\n",
    "model.compile(loss='mae', optimizer='adam')\n",
    "# fit network\n",
    "history = model.fit(train_X, train_y, epochs=100, batch_size=3, validation_data=(test_X, test_y), verbose=2, shuffle=False)\n",
    "# plot history\n",
    "pyplot.plot(history.history['loss'], label='train')\n",
    "pyplot.plot(history.history['val_loss'], label='test')\n",
    "pyplot.legend()\n",
    "pyplot.show()"
   ]
  },
  {
   "cell_type": "code",
   "execution_count": null,
   "metadata": {},
   "outputs": [],
   "source": [
    "# make a prediction\n",
    "yhat = model.predict(test_X)\n",
    "test_X = test_X.reshape((test_X.shape[0], test_X.shape[2]))\n",
    "# invert scaling for forecast\n",
    "inv_yhat = concatenate((yhat, test_X[:, 1:]), axis=1)\n",
    "inv_yhat = scaler.inverse_transform(inv_yhat)\n",
    "inv_yhat = inv_yhat[:,0]\n",
    "# invert scaling for actual\n",
    "test_y = test_y.reshape((len(test_y), 1))\n",
    "inv_y = concatenate((test_y, test_X[:, 1:]), axis=1)\n",
    "inv_y = scaler.inverse_transform(inv_y)\n",
    "inv_y = inv_y[:,0]\n",
    "# calculate RMSE\n",
    "rmse = sqrt(mean_squared_error(inv_y, inv_yhat))\n",
    "print('Test RMSE: %.3f' % rmse)"
   ]
  }
 ],
 "metadata": {
  "kernelspec": {
   "display_name": "NLP",
   "language": "python",
   "name": "python3"
  },
  "language_info": {
   "codemirror_mode": {
    "name": "ipython",
    "version": 3
   },
   "file_extension": ".py",
   "mimetype": "text/x-python",
   "name": "python",
   "nbconvert_exporter": "python",
   "pygments_lexer": "ipython3",
   "version": "3.9.18"
  }
 },
 "nbformat": 4,
 "nbformat_minor": 2
}
